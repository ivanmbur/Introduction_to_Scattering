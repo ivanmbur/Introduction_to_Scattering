{
 "cells": [
  {
   "cell_type": "markdown",
   "id": "a817a70d-6262-4fa1-a47c-57ad3aec9500",
   "metadata": {},
   "source": [
    "# Cauchy's theorem"
   ]
  },
  {
   "cell_type": "markdown",
   "id": "6c64a8f7-4ce3-4d6a-a6c2-70932955f88e",
   "metadata": {
    "tags": []
   },
   "source": [
    "### 1"
   ]
  },
  {
   "cell_type": "code",
   "execution_count": 2,
   "id": "4cbd5cd4-2aee-4d9d-a490-e1ed4f48fef6",
   "metadata": {
    "tags": []
   },
   "outputs": [],
   "source": [
    "import numpy as np\n",
    "import matplotlib.pyplot as plt"
   ]
  },
  {
   "cell_type": "code",
   "execution_count": 22,
   "id": "f7b5a7eb-98d5-4c2e-b2ec-5243f4de6a7b",
   "metadata": {
    "tags": []
   },
   "outputs": [
    {
     "name": "stdout",
     "output_type": "stream",
     "text": [
      "(-0.2512744609008929+1.9998402604793633j) (-0.25+2j)\n"
     ]
    }
   ],
   "source": [
    "def f(z):\n",
    "    return (z**2+z)/(z-(0.5+1j))\n",
    "\n",
    "N = 1000\n",
    "length = 100\n",
    "side_1 = 0.5+1j - length/2 - 1j*length/2 + np.linspace(0, length, N)\n",
    "side_2 = side_1[-1] + 1j*np.linspace(0, length, N)\n",
    "side_3 = side_2[-1] - np.linspace(0, length, N)\n",
    "side_4 = side_3[-1] - 1j*np.linspace(0, length, N)\n",
    "residue = 0\n",
    "for n in range(N-1):\n",
    "    residue = residue + ((f(side_1[n])-f(side_3[n])+1j*f(side_2[n])-1j*f(side_4[n]))*length/(N-1))  \n",
    "\n",
    "print(residue/(2*np.pi*1j), (0.5+1j)**2+0.5+1j)\n"
   ]
  },
  {
   "cell_type": "code",
   "execution_count": null,
   "id": "1a0e10ab-259a-4128-8787-e6f5c7841e12",
   "metadata": {},
   "outputs": [],
   "source": []
  }
 ],
 "metadata": {
  "kernelspec": {
   "display_name": "Python 3 (ipykernel)",
   "language": "python",
   "name": "python3"
  },
  "language_info": {
   "codemirror_mode": {
    "name": "ipython",
    "version": 3
   },
   "file_extension": ".py",
   "mimetype": "text/x-python",
   "name": "python",
   "nbconvert_exporter": "python",
   "pygments_lexer": "ipython3",
   "version": "3.8.10"
  }
 },
 "nbformat": 4,
 "nbformat_minor": 5
}
